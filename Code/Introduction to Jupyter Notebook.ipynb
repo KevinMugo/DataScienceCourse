{
 "cells": [
  {
   "cell_type": "markdown",
   "id": "fde43dd1",
   "metadata": {},
   "source": [
    "<h1>INTRODUCTION TO JUPYTER NOTEBOOKS</h1>\n",
    "<h2>Outputing in Jupyter notebooks</h2>\n",
    "<p>In order to make various outputs, the following commands can be used:</p>\n",
    "<ol>\n",
    "    <li><b>Ctrl + Enter-</b> Runs and remains on the same cell</li>\n",
    "    <li><b>Shift + Enter -</b> Run and move to the next cell</li>\n",
    "    <li><b>Alt + Enter -</b>Run and inserts a new cell below the ran cell</li>\n",
    "</ol>\n",
    "\n",
    "<h2>Types of cells</h2>\n",
    "<ol>\n",
    "    <li><b>Code- </b>Environment for coding various languages e.g. Python and R</li>\n",
    "    <li><b>Markdown- </b>Writing HTML code for commenting/documentation</li>\n",
    "    <li><b>Raw NBConvert- </b>Used in writing unexecutable plain texts</li>\n",
    "    <li><b>Heading- </b>Writing headings in markdown format</li>\n",
    "</ol>\n",
    "\n",
    "<h2>Cell modes</h2>\n",
    "There are two types of cell modes in Jupyter notebook:\n",
    "<ol>\n",
    "    <li><b>Code mode-</b> Commonly used in writing the Python and markdown codes</li>\n",
    "    <li><b>Command mode-</b> Commonly used in handling making changes to cells</li>\n",
    "</ol>\n",
    "\n",
    "<h2>Common command modes</h2>\n",
    "<ol>\n",
    "    <li><b>A -</b> Insert a cell above the currently running cell</li>\n",
    "    <li><b>B -</b> Insert a cell below the currently running cell</li>\n",
    "    <li><b>Z -</b> Undo</li>\n",
    "    <li><b>Y -</b> Redo</li>\n",
    "    <li><b>X -</b> Cut</li>\n",
    "    <li><b>V -</b> Pasting</li>\n",
    "    <li><b>M -</b> Markdown</li>\n",
    "</ol>"
   ]
  },
  {
   "cell_type": "code",
   "execution_count": 1,
   "id": "273d8e4f",
   "metadata": {
    "scrolled": true
   },
   "outputs": [
    {
     "name": "stdout",
     "output_type": "stream",
     "text": [
      "Koding & Kahawa\n"
     ]
    }
   ],
   "source": [
    "print('Koding & Kahawa')"
   ]
  },
  {
   "cell_type": "code",
   "execution_count": 2,
   "id": "293d3657",
   "metadata": {
    "scrolled": true
   },
   "outputs": [
    {
     "name": "stdout",
     "output_type": "stream",
     "text": [
      "Data Science is fun\n"
     ]
    }
   ],
   "source": [
    "print('Data Science is fun')"
   ]
  },
  {
   "cell_type": "code",
   "execution_count": 3,
   "id": "b131df0a",
   "metadata": {
    "scrolled": false
   },
   "outputs": [
    {
     "name": "stdout",
     "output_type": "stream",
     "text": [
      "Koding & Kahawa\n"
     ]
    }
   ],
   "source": [
    "print('Koding & Kahawa')"
   ]
  },
  {
   "cell_type": "markdown",
   "id": "860fecdc",
   "metadata": {},
   "source": [
    "# Heading 1\n",
    "## Heading 2\n",
    "### Heading 3\n",
    "#### Heading 4\n",
    "##### Heading 5"
   ]
  },
  {
   "cell_type": "markdown",
   "id": "78a7c117",
   "metadata": {},
   "source": [
    "<img src = '../Images/petals.png'>Image</img>"
   ]
  },
  {
   "cell_type": "code",
   "execution_count": 4,
   "id": "0f7f2ea5",
   "metadata": {},
   "outputs": [
    {
     "data": {
      "text/plain": [
       "'C:\\\\Users\\\\User\\\\Desktop\\\\GitCode\\\\Koding & Kahawa Class\\\\Code'"
      ]
     },
     "execution_count": 4,
     "metadata": {},
     "output_type": "execute_result"
    }
   ],
   "source": [
    "%pwd"
   ]
  },
  {
   "cell_type": "code",
   "execution_count": 5,
   "id": "2e0f9ba8",
   "metadata": {},
   "outputs": [
    {
     "data": {
      "text/plain": [
       "'C:\\\\Users\\\\User\\\\Desktop\\\\GitCode\\\\Koding & Kahawa Class\\\\Code'"
      ]
     },
     "execution_count": 5,
     "metadata": {},
     "output_type": "execute_result"
    }
   ],
   "source": [
    "pwd"
   ]
  },
  {
   "cell_type": "code",
   "execution_count": 6,
   "id": "0cc27a66",
   "metadata": {
    "scrolled": true
   },
   "outputs": [
    {
     "name": "stdout",
     "output_type": "stream",
     "text": [
      " Volume in drive C is Windows8_OS\n",
      " Volume Serial Number is 3E20-2FD1\n",
      "\n",
      " Directory of C:\\Users\\User\\Desktop\\GitCode\\Koding & Kahawa Class\\Code\n",
      "\n",
      "09/08/2022  02:49 PM    <DIR>          .\n",
      "09/08/2022  02:49 PM    <DIR>          ..\n",
      "09/08/2022  02:49 PM    <DIR>          .ipynb_checkpoints\n",
      "09/08/2022  02:42 PM             5,326 Introduction to Jupyter Notebook.ipynb\n",
      "09/08/2022  02:13 PM            29,466 Introduction to Python.ipynb\n",
      "               2 File(s)         34,792 bytes\n",
      "               3 Dir(s)  141,919,678,464 bytes free\n"
     ]
    }
   ],
   "source": [
    "ls"
   ]
  },
  {
   "cell_type": "code",
   "execution_count": null,
   "id": "2b6ba9fa",
   "metadata": {},
   "outputs": [],
   "source": []
  }
 ],
 "metadata": {
  "kernelspec": {
   "display_name": "Python 3 (ipykernel)",
   "language": "python",
   "name": "python3"
  },
  "language_info": {
   "codemirror_mode": {
    "name": "ipython",
    "version": 3
   },
   "file_extension": ".py",
   "mimetype": "text/x-python",
   "name": "python",
   "nbconvert_exporter": "python",
   "pygments_lexer": "ipython3",
   "version": "3.9.7"
  }
 },
 "nbformat": 4,
 "nbformat_minor": 5
}
